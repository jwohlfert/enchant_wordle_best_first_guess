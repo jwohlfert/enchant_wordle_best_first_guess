{
 "cells": [
  {
   "cell_type": "code",
   "execution_count": 1,
   "id": "ab0e203c-c482-4cd0-b464-839a65cdfc23",
   "metadata": {},
   "outputs": [],
   "source": [
    "%run download_and_preprocess_data.py"
   ]
  },
  {
   "cell_type": "code",
   "execution_count": 2,
   "id": "8f576528-5c1d-4130-994e-45aa015bcfcc",
   "metadata": {},
   "outputs": [],
   "source": [
    "import pandas as pd"
   ]
  },
  {
   "cell_type": "code",
   "execution_count": 3,
   "id": "acadf5c5-3380-4202-92af-2a14ea085e32",
   "metadata": {},
   "outputs": [],
   "source": [
    "def list_compare(list1, list2):\n",
    "    return set(list1) == set(list2)"
   ]
  },
  {
   "cell_type": "code",
   "execution_count": 4,
   "id": "084afd07-fb43-4e3d-a3de-c40fae4a0e0f",
   "metadata": {},
   "outputs": [],
   "source": [
    "cards = pd.read_json(\"data/cards-first-printing-scryfall.json\")"
   ]
  },
  {
   "cell_type": "markdown",
   "id": "7b944277-b7f5-4c69-b302-1d3988793c8d",
   "metadata": {},
   "source": [
    "# find the \"middle-most\" set(s) chronologically"
   ]
  },
  {
   "cell_type": "code",
   "execution_count": 5,
   "id": "b1df08a8-eb06-427f-b816-b4a9f2747dcc",
   "metadata": {},
   "outputs": [
    {
     "name": "stdout",
     "output_type": "stream",
     "text": [
      "Median Set(s):Khans of Tarkir/Commander 2014\n"
     ]
    }
   ],
   "source": [
    "set_list = cards.set_name.unique()\n",
    "middle_index = len(set_list) // 2\n",
    "if len(set_list) % 2 == 0:\n",
    "    median_sets = [set_list[middle_index], set_list[middle_index + 1]]\n",
    "else:\n",
    "    median_sets = [set_list[middle_index]]\n",
    "print(f\"Median Set(s):{'/'.join(median_sets)}\")"
   ]
  },
  {
   "cell_type": "markdown",
   "id": "8a46349f-2914-49c2-a5da-70024098081d",
   "metadata": {},
   "source": [
    "# find the most common card type"
   ]
  },
  {
   "cell_type": "code",
   "execution_count": 6,
   "id": "b5e7cd9e-a222-448e-b077-14d4e7552b49",
   "metadata": {},
   "outputs": [],
   "source": [
    "# Note: I have found if I go through these next few steps looking at all the cards, there may not be a card in the\n",
    "# median sets that match all the criteria, so I am going to just look cards in the median sets and see where that\n",
    "# gets me."
   ]
  },
  {
   "cell_type": "code",
   "execution_count": 7,
   "id": "2a2b42bd-dc51-4d4d-b45f-3362e021cd93",
   "metadata": {},
   "outputs": [
    {
     "name": "stdout",
     "output_type": "stream",
     "text": [
      "Most Common Type: Creature \n"
     ]
    }
   ],
   "source": [
    "set_filter = (cards[\"set_name\"].isin(median_sets))\n",
    "type_count = cards[set_filter][\"type1\"].value_counts()\n",
    "common_type = type_count.index[0]\n",
    "print(f\"Most Common Type: {common_type}\")"
   ]
  },
  {
   "cell_type": "markdown",
   "id": "67bc3f33-4d90-4f8d-89d1-d7d95fb133e2",
   "metadata": {},
   "source": [
    "# find the most common subtype"
   ]
  },
  {
   "cell_type": "code",
   "execution_count": 8,
   "id": "ff4022e6-52d5-4562-919e-8c0d61d7a6d2",
   "metadata": {},
   "outputs": [
    {
     "name": "stdout",
     "output_type": "stream",
     "text": [
      "Most Common Subtype:  Human Warrior\n"
     ]
    }
   ],
   "source": [
    "type_filter = set_filter & (cards[\"type1\"] == common_type)\n",
    "subtype_count = cards[type_filter][\"subtype1\"].value_counts()\n",
    "common_subtype = subtype_count.index[0]\n",
    "print(f\"Most Common Subtype: {common_subtype}\")"
   ]
  },
  {
   "cell_type": "markdown",
   "id": "dcd33864-272d-4e9f-9855-117822296678",
   "metadata": {},
   "source": [
    "# find the most common color identity"
   ]
  },
  {
   "cell_type": "code",
   "execution_count": 9,
   "id": "bcfe2c71-9f0a-4962-b31b-889510aff5ce",
   "metadata": {},
   "outputs": [
    {
     "name": "stdout",
     "output_type": "stream",
     "text": [
      "Most Common Color Identity: ['W']\n"
     ]
    }
   ],
   "source": [
    "subtype_filter = type_filter & (cards[\"subtype1\"] == common_subtype)\n",
    "color_identity_count = cards[subtype_filter][\"color_identity\"].value_counts(dropna=False)\n",
    "common_color_identity = color_identity_count.index[0]\n",
    "print(f\"Most Common Color Identity: {common_color_identity}\")"
   ]
  },
  {
   "cell_type": "markdown",
   "id": "f83abf79-8114-4b5b-a75d-ace0b79aca64",
   "metadata": {},
   "source": [
    "# find the most common rarity"
   ]
  },
  {
   "cell_type": "code",
   "execution_count": 10,
   "id": "e3cc7988-8c40-4012-b6f4-0ac80c36931e",
   "metadata": {},
   "outputs": [
    {
     "name": "stdout",
     "output_type": "stream",
     "text": [
      "Most Common Rarity: uncommon\n"
     ]
    }
   ],
   "source": [
    "color_identity_filter = (subtype_filter &\n",
    "                         (cards[\"color_identity\"].apply(list_compare, args=(common_color_identity,))))\n",
    "rarity_count = cards[color_identity_filter][\"rarity\"].value_counts()\n",
    "common_rarity = rarity_count.index[0]\n",
    "print(f\"Most Common Rarity: {common_rarity}\")"
   ]
  },
  {
   "cell_type": "markdown",
   "id": "2a5608d5-c9bd-4df4-b7ff-5146258917da",
   "metadata": {},
   "source": [
    "# identify the best first guess card(s)"
   ]
  },
  {
   "cell_type": "code",
   "execution_count": 11,
   "id": "2f4bc5e0-ecf3-4470-ac3e-082c32eb1fa9",
   "metadata": {},
   "outputs": [
    {
     "name": "stdout",
     "output_type": "stream",
     "text": [
      "                    name  cmc color_identity    rarity      type1  \\\n",
      "14240   Timely Hordemate  4.0            [W]  uncommon  Creature    \n",
      "14255  Seeker of the Way  2.0            [W]  uncommon  Creature    \n",
      "\n",
      "             subtype1         set_name  \n",
      "14240   Human Warrior  Khans of Tarkir  \n",
      "14255   Human Warrior  Khans of Tarkir  \n"
     ]
    }
   ],
   "source": [
    "full_card_filter = color_identity_filter & (cards[\"rarity\"] == common_rarity)\n",
    "print(cards[full_card_filter][[\"name\", \"cmc\", \"color_identity\", \"rarity\", \"type1\", \"subtype1\", \"set_name\"]])"
   ]
  },
  {
   "cell_type": "markdown",
   "id": "dfb6bf04-ce49-42d3-bf56-f297f63c034e",
   "metadata": {},
   "source": [
    "# filter cards based on feedback from the game"
   ]
  },
  {
   "cell_type": "code",
   "execution_count": 12,
   "id": "c3243629-6723-4d3d-8a15-72f3ffee8de9",
   "metadata": {
    "ExecuteTime": {
     "end_time": "2024-02-02T19:15:08.776201633Z",
     "start_time": "2024-02-02T19:15:08.730283028Z"
    }
   },
   "outputs": [
    {
     "data": {
      "text/plain": [
       "2"
      ]
     },
     "execution_count": 12,
     "metadata": {},
     "output_type": "execute_result"
    }
   ],
   "source": [
    "current_filter = (\n",
    "    (cards[\"cmc\"] == 1.0) &\n",
    "    (cards[\"color_identity\"].apply(list_compare, args=([\"W\"],))) &\n",
    "    (cards[\"rarity\"] == \"common\") &\n",
    "    (cards[\"type1\"] == \"Instant\") &\n",
    "    (cards[\"release_year\"] > 2014) &\n",
    "    (cards[\"release_year\"] < 2016)\n",
    ")\n",
    "len(cards[current_filter])"
   ]
  },
  {
   "cell_type": "code",
   "execution_count": 13,
   "id": "b7880d99-488b-4189-9bac-b17d3b78920a",
   "metadata": {},
   "outputs": [
    {
     "data": {
      "text/html": [
       "<div>\n",
       "<style scoped>\n",
       "    .dataframe tbody tr th:only-of-type {\n",
       "        vertical-align: middle;\n",
       "    }\n",
       "\n",
       "    .dataframe tbody tr th {\n",
       "        vertical-align: top;\n",
       "    }\n",
       "\n",
       "    .dataframe thead th {\n",
       "        text-align: right;\n",
       "    }\n",
       "</style>\n",
       "<table border=\"1\" class=\"dataframe\">\n",
       "  <thead>\n",
       "    <tr style=\"text-align: right;\">\n",
       "      <th></th>\n",
       "      <th>name</th>\n",
       "      <th>cmc</th>\n",
       "      <th>color_identity</th>\n",
       "      <th>rarity</th>\n",
       "      <th>type1</th>\n",
       "      <th>subtype1</th>\n",
       "      <th>set_name</th>\n",
       "      <th>released_at</th>\n",
       "      <th>release_year</th>\n",
       "    </tr>\n",
       "  </thead>\n",
       "  <tbody>\n",
       "    <tr>\n",
       "      <th>15089</th>\n",
       "      <td>Enshrouding Mist</td>\n",
       "      <td>1.0</td>\n",
       "      <td>[W]</td>\n",
       "      <td>common</td>\n",
       "      <td>Instant</td>\n",
       "      <td>None</td>\n",
       "      <td>Magic Origins</td>\n",
       "      <td>2015-07-17</td>\n",
       "      <td>2015</td>\n",
       "    </tr>\n",
       "    <tr>\n",
       "      <th>15104</th>\n",
       "      <td>Lithomancer's Focus</td>\n",
       "      <td>1.0</td>\n",
       "      <td>[W]</td>\n",
       "      <td>common</td>\n",
       "      <td>Instant</td>\n",
       "      <td>None</td>\n",
       "      <td>Battle for Zendikar</td>\n",
       "      <td>2015-10-02</td>\n",
       "      <td>2015</td>\n",
       "    </tr>\n",
       "  </tbody>\n",
       "</table>\n",
       "</div>"
      ],
      "text/plain": [
       "                      name  cmc color_identity  rarity    type1 subtype1  \\\n",
       "15089     Enshrouding Mist  1.0            [W]  common  Instant     None   \n",
       "15104  Lithomancer's Focus  1.0            [W]  common  Instant     None   \n",
       "\n",
       "                  set_name released_at  release_year  \n",
       "15089        Magic Origins  2015-07-17          2015  \n",
       "15104  Battle for Zendikar  2015-10-02          2015  "
      ]
     },
     "execution_count": 13,
     "metadata": {},
     "output_type": "execute_result"
    }
   ],
   "source": [
    "card_list = cards[current_filter][\"name\"].unique()\n",
    "middle_index = len(card_list) // 2\n",
    "if len(set_list) % 2 == 0:\n",
    "    median_cards = [card_list[middle_index - 1], card_list[middle_index]]\n",
    "else:\n",
    "    median_cards = [card_list[middle_index]]\n",
    "cards[cards[\"name\"].isin(median_cards)]"
   ]
  },
  {
   "cell_type": "code",
   "execution_count": null,
   "id": "8075fde4-606f-483b-b07c-e113af89871e",
   "metadata": {},
   "outputs": [],
   "source": []
  }
 ],
 "metadata": {
  "kernelspec": {
   "display_name": "Python 3 (ipykernel)",
   "language": "python",
   "name": "python3"
  },
  "language_info": {
   "codemirror_mode": {
    "name": "ipython",
    "version": 3
   },
   "file_extension": ".py",
   "mimetype": "text/x-python",
   "name": "python",
   "nbconvert_exporter": "python",
   "pygments_lexer": "ipython3",
   "version": "3.10.12"
  }
 },
 "nbformat": 4,
 "nbformat_minor": 5
}
